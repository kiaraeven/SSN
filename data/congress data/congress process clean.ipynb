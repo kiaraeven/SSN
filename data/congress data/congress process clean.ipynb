{
 "cells": [
  {
   "cell_type": "code",
   "execution_count": 2,
   "metadata": {},
   "outputs": [],
   "source": [
    "import pandas as pd\n",
    "import numpy as np\n",
    "from itertools import chain"
   ]
  },
  {
   "cell_type": "code",
   "execution_count": null,
   "metadata": {},
   "outputs": [],
   "source": [
    "df_vote = pd.read_csv('H117_votes.csv')\n"
   ]
  },
  {
   "cell_type": "code",
   "execution_count": 43,
   "metadata": {},
   "outputs": [],
   "source": [
    "#read node file\n",
    "place_node = pd.read_csv('node district.csv')\n",
    "# Merge df1 and df2 on 'icprs' column\n",
    "merged_df_vote = pd.merge(df_vote, place_node[['icpsr']], on='icpsr', how='inner')"
   ]
  },
  {
   "cell_type": "code",
   "execution_count": 44,
   "metadata": {},
   "outputs": [
    {
     "name": "stdout",
     "output_type": "stream",
     "text": [
      "69\n",
      "68\n"
     ]
    }
   ],
   "source": [
    "# distinct number of icpsr 457, 996 roll\n",
    "icpsr = df_vote.icpsr.unique()\n",
    "print(len(icpsr))\n",
    "icpsr = merged_df_vote.icpsr.unique()\n",
    "print(len(icpsr))\n",
    "df_vote = merged_df_vote"
   ]
  },
  {
   "cell_type": "code",
   "execution_count": 45,
   "metadata": {},
   "outputs": [],
   "source": [
    "# reshape df\n",
    "re_df = df_vote.pivot(index='icpsr', columns='rollnumber', values='cast_code')\n",
    "re_df.to_csv('widevote10_29.csv')"
   ]
  },
  {
   "cell_type": "code",
   "execution_count": 47,
   "metadata": {},
   "outputs": [
    {
     "name": "stdout",
     "output_type": "stream",
     "text": [
      "1279\n"
     ]
    }
   ],
   "source": [
    "#set threthold for assign an egde:\n",
    "threshold = 450\n",
    "edgelist = []\n",
    "for index, row in re_df.iterrows():\n",
    "    # print (int(index))\n",
    "    ex_df = re_df[index:]\n",
    "    ex_df = ex_df.iloc[1:, :]\n",
    "    # print(ex_df.shape)\n",
    "    nrow = row.to_numpy()\n",
    "    for exi, exr in ex_df.iterrows():\n",
    "        nexr = exr.to_numpy()\n",
    "        equal_pos = np.where(nrow == nexr)\n",
    "        if(len(equal_pos[0]) > threshold ):\n",
    "            edgelist.append([index,exi])\n",
    "\n",
    "print(len(edgelist))"
   ]
  },
  {
   "cell_type": "code",
   "execution_count": 48,
   "metadata": {},
   "outputs": [
    {
     "name": "stdout",
     "output_type": "stream",
     "text": [
      "[]\n",
      "1279\n",
      "1279\n",
      "set()\n"
     ]
    }
   ],
   "source": [
    "# remove value not in the district node file \n",
    "newedgelist = list(chain.from_iterable(edgelist))\n",
    "ic = df_vote.icpsr.unique()\n",
    "differ = list(set(newedgelist)- set(ic) )\n",
    "print(differ)\n",
    "filter_edgelist = []\n",
    "for edge in edgelist:\n",
    "    if any(x in differ for x in edge):\n",
    "        continue\n",
    "    else: \n",
    "        filter_edgelist.append(edge)\n",
    "\n",
    "print(len(edgelist))\n",
    "print(len(filter_edgelist))\n",
    "print(set(chain.from_iterable(filter_edgelist))- set(ic))"
   ]
  },
  {
   "cell_type": "code",
   "execution_count": null,
   "metadata": {},
   "outputs": [],
   "source": [
    "# save edge assign resutls \n",
    "result_df = pd.DataFrame(filter_edgelist, columns =['Source', 'Target'])\n",
    "result_df = result_df.astype('Int64')\n",
    "filename = 'vote_edge_filter'+ str(threshold) +'.csv'\n",
    "result_df.to_csv(filename, index=False)"
   ]
  }
 ],
 "metadata": {
  "kernelspec": {
   "display_name": "Python 3.10.5 64-bit",
   "language": "python",
   "name": "python3"
  },
  "language_info": {
   "codemirror_mode": {
    "name": "ipython",
    "version": 3
   },
   "file_extension": ".py",
   "mimetype": "text/x-python",
   "name": "python",
   "nbconvert_exporter": "python",
   "pygments_lexer": "ipython3",
   "version": "3.10.5"
  },
  "orig_nbformat": 4,
  "vscode": {
   "interpreter": {
    "hash": "218c93a02c1f8f0b8764b23e6253dcf96f345ff443b759636cf5ba0d3f79fc4e"
   }
  }
 },
 "nbformat": 4,
 "nbformat_minor": 2
}
