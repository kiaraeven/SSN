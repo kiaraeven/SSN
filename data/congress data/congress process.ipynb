{
 "cells": [
  {
   "cell_type": "code",
   "execution_count": 2,
   "metadata": {},
   "outputs": [],
   "source": [
    "import pandas as pd\n",
    "import numpy as np\n",
    "from itertools import chain"
   ]
  },
  {
   "cell_type": "code",
   "execution_count": 18,
   "metadata": {},
   "outputs": [],
   "source": [
    "df_vote = pd.read_csv('H117_votes.csv')\n"
   ]
  },
  {
   "cell_type": "code",
   "execution_count": 43,
   "metadata": {},
   "outputs": [],
   "source": [
    "#filter state by node file with only nodes needed\n",
    "place_node = pd.read_csv('node district filtered state.csv')\n",
    "# Merge df1 and df2 on 'icprs' column\n",
    "merged_df_vote = pd.merge(df_vote, place_node[['icpsr']], on='icpsr', how='inner')"
   ]
  },
  {
   "cell_type": "code",
   "execution_count": 44,
   "metadata": {},
   "outputs": [
    {
     "name": "stdout",
     "output_type": "stream",
     "text": [
      "69\n",
      "68\n"
     ]
    }
   ],
   "source": [
    "# distinct number of icpsr 457, 996 roll\n",
    "icpsr = df_vote.icpsr.unique()\n",
    "print(len(icpsr))\n",
    "icpsr = merged_df_vote.icpsr.unique()\n",
    "print(len(icpsr))\n",
    "df_vote = merged_df_vote"
   ]
  },
  {
   "cell_type": "code",
   "execution_count": 45,
   "metadata": {},
   "outputs": [],
   "source": [
    "# reshape df\n",
    "re_df = df_vote.pivot(index='icpsr', columns='rollnumber', values='cast_code')"
   ]
  },
  {
   "cell_type": "code",
   "execution_count": 5,
   "metadata": {},
   "outputs": [],
   "source": [
    "re_df.to_csv('widevote10_29.csv')"
   ]
  },
  {
   "cell_type": "code",
   "execution_count": 16,
   "metadata": {},
   "outputs": [],
   "source": [
    "# re_df1 = re_df.astype('Int64')"
   ]
  },
  {
   "cell_type": "code",
   "execution_count": 17,
   "metadata": {},
   "outputs": [
    {
     "name": "stdout",
     "output_type": "stream",
     "text": [
      "rollnumber\n",
      "1      6\n",
      "2      1\n",
      "3      6\n",
      "4      6\n",
      "5      6\n",
      "      ..\n",
      "992    1\n",
      "993    1\n",
      "994    6\n",
      "995    1\n",
      "996    6\n",
      "Name: 14854.0, Length: 996, dtype: Int64\n"
     ]
    }
   ],
   "source": [
    "# print(re_df1.iloc[1])"
   ]
  },
  {
   "cell_type": "code",
   "execution_count": 46,
   "metadata": {},
   "outputs": [
    {
     "name": "stdout",
     "output_type": "stream",
     "text": [
      "68\n"
     ]
    }
   ],
   "source": [
    "print(len(re_df))"
   ]
  },
  {
   "cell_type": "code",
   "execution_count": 47,
   "metadata": {},
   "outputs": [
    {
     "name": "stdout",
     "output_type": "stream",
     "text": [
      "1279\n"
     ]
    }
   ],
   "source": [
    "edgelist = []\n",
    "for index, row in re_df.iterrows():\n",
    "    # print (int(index))\n",
    "    ex_df = re_df[index:]\n",
    "    ex_df = ex_df.iloc[1:, :]\n",
    "    # print(ex_df.shape)\n",
    "    nrow = row.to_numpy()\n",
    "    for exi, exr in ex_df.iterrows():\n",
    "        nexr = exr.to_numpy()\n",
    "        equal_pos = np.where(nrow == nexr)\n",
    "        if(len(equal_pos[0]) > 450 ):\n",
    "            edgelist.append([index,exi])\n",
    "\n",
    "print(len(edgelist))"
   ]
  },
  {
   "cell_type": "code",
   "execution_count": 48,
   "metadata": {},
   "outputs": [
    {
     "name": "stdout",
     "output_type": "stream",
     "text": [
      "[]\n",
      "1279\n",
      "1279\n",
      "set()\n"
     ]
    }
   ],
   "source": [
    "# remove value not in the district node file \n",
    "newedgelist = list(chain.from_iterable(edgelist))\n",
    "ic = df_vote.icpsr.unique()\n",
    "differ = list(set(newedgelist)- set(ic) )\n",
    "print(differ)\n",
    "filter_edgelist = []\n",
    "for edge in edgelist:\n",
    "    if any(x in differ for x in edge):\n",
    "        continue\n",
    "    else: \n",
    "        filter_edgelist.append(edge)\n",
    "\n",
    "print(len(edgelist))\n",
    "print(len(filter_edgelist))\n",
    "print(set(chain.from_iterable(filter_edgelist))- set(ic))"
   ]
  },
  {
   "cell_type": "code",
   "execution_count": 42,
   "metadata": {},
   "outputs": [],
   "source": [
    "result_df = pd.DataFrame(filter_edgelist, columns =['Source', 'Target'])\n",
    "result_df = result_df.astype('Int64')\n",
    "result_df.to_csv('vote_edge_filter450.csv', index=False)"
   ]
  },
  {
   "cell_type": "code",
   "execution_count": 56,
   "metadata": {},
   "outputs": [],
   "source": [
    "# tabel join distrct with icpsr\n",
    "df_icpsr = pd.read_csv('H117_members.csv')\n",
    "df_district = pd.read_csv('USA_117th_Congressional_Districts\\congress district point.csv')"
   ]
  },
  {
   "cell_type": "code",
   "execution_count": 44,
   "metadata": {},
   "outputs": [
    {
     "name": "stdout",
     "output_type": "stream",
     "text": [
      "(436, 14)\n"
     ]
    }
   ],
   "source": [
    "print(df_district.shape)"
   ]
  },
  {
   "cell_type": "code",
   "execution_count": 61,
   "metadata": {},
   "outputs": [],
   "source": [
    "for di, dis in df_district.iterrows():\n",
    "    for mi, member in df_icpsr.iterrows():\n",
    "        if (member['state_abbrev'] == dis.STATE_ABBR and member.district_code == dis.CDFIPS):\n",
    "            df_district.loc[di].icpsr = member.icpsr\n",
    "            break \n",
    "\n"
   ]
  },
  {
   "cell_type": "code",
   "execution_count": 73,
   "metadata": {},
   "outputs": [],
   "source": [
    "new_df = pd.merge(df_district, df_icpsr,  how='inner', left_on=['STATE_ABBR','CDFIPS'], right_on = ['state_abbrev','district_code'])\n"
   ]
  },
  {
   "cell_type": "code",
   "execution_count": 79,
   "metadata": {},
   "outputs": [],
   "source": [
    "newdf1 = df_district.merge(df_icpsr, how='left', left_on=['STATE_ABBR','CDFIPS'], right_on = ['state_abbrev','district_code'])"
   ]
  },
  {
   "cell_type": "code",
   "execution_count": 81,
   "metadata": {},
   "outputs": [
    {
     "name": "stdout",
     "output_type": "stream",
     "text": [
      "(436, 36)\n"
     ]
    }
   ],
   "source": [
    "newnew = newdf1.drop_duplicates(subset=['STATE_ABBR', 'CDFIPS'], keep=\"last\")\n",
    "print(newnew.shape)"
   ]
  },
  {
   "cell_type": "markdown",
   "metadata": {},
   "source": []
  },
  {
   "cell_type": "code",
   "execution_count": 82,
   "metadata": {},
   "outputs": [],
   "source": [
    "newnew.to_csv('node district.csv')"
   ]
  },
  {
   "cell_type": "code",
   "execution_count": 4,
   "metadata": {},
   "outputs": [
    {
     "name": "stdout",
     "output_type": "stream",
     "text": [
      "   icprs other_column\n",
      "0      2            X\n",
      "1      3            Y\n",
      "2      3            S\n"
     ]
    }
   ],
   "source": [
    "#test code :\n",
    "# Sample data for df1\n",
    "data1 = {'icprs': [1, 2, 3], 'state name': ['A', 'B', 'C']}\n",
    "df1 = pd.DataFrame(data1)\n",
    "\n",
    "# Sample data for df2\n",
    "data2 = {'icprs': [2, 3, 4, 5, 3], 'other_column': ['X', 'Y', 'Z', 'W','S']}\n",
    "df2 = pd.DataFrame(data2)\n",
    "\n",
    "# Merge df1 and df2 on 'icprs' column\n",
    "merged_df = pd.merge(df2, df1[['icprs']], on='icprs', how='inner')\n",
    "\n",
    "# Now, merged_df contains only the rows from df2 where 'icprs' is present in df1\n",
    "# If you want to keep all columns from df2, you can drop the 'icprs' column from df1\n",
    "# and then merge on the 'icprs' column\n",
    "\n",
    "# If you want to modify df2 in place, you can do:\n",
    "# df2 = pd.merge(df2, df1[['icprs']], on='icprs', how='inner')\n",
    "\n",
    "print(merged_df)"
   ]
  }
 ],
 "metadata": {
  "kernelspec": {
   "display_name": "Python 3.10.5 64-bit",
   "language": "python",
   "name": "python3"
  },
  "language_info": {
   "codemirror_mode": {
    "name": "ipython",
    "version": 3
   },
   "file_extension": ".py",
   "mimetype": "text/x-python",
   "name": "python",
   "nbconvert_exporter": "python",
   "pygments_lexer": "ipython3",
   "version": "3.10.5"
  },
  "orig_nbformat": 4,
  "vscode": {
   "interpreter": {
    "hash": "218c93a02c1f8f0b8764b23e6253dcf96f345ff443b759636cf5ba0d3f79fc4e"
   }
  }
 },
 "nbformat": 4,
 "nbformat_minor": 2
}
